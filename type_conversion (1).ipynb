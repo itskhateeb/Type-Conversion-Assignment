{
 "cells": [
  {
   "cell_type": "code",
   "execution_count": 13,
   "id": "86323923-3f2c-4e72-b568-bbd0ca3990bf",
   "metadata": {},
   "outputs": [],
   "source": [
    "# 1. Convert a integer to a floatig-point number."
   ]
  },
  {
   "cell_type": "code",
   "execution_count": 2,
   "id": "a87588aa-8e8c-4b94-9fc0-9bd18ccef46b",
   "metadata": {},
   "outputs": [
    {
     "name": "stdout",
     "output_type": "stream",
     "text": [
      "5.0\n"
     ]
    }
   ],
   "source": [
    "num = 5\n",
    "num2 = float(num)\n",
    "print (num2)"
   ]
  },
  {
   "cell_type": "code",
   "execution_count": 3,
   "id": "a2d91dea-ceb7-4e64-b579-2c78744133d1",
   "metadata": {},
   "outputs": [],
   "source": [
    "# 2. Convert a float to a integer."
   ]
  },
  {
   "cell_type": "code",
   "execution_count": 4,
   "id": "f74e5734-acba-42e3-b90f-d05a9787a9c5",
   "metadata": {},
   "outputs": [
    {
     "name": "stdout",
     "output_type": "stream",
     "text": [
      "5\n"
     ]
    }
   ],
   "source": [
    "num = 5.6\n",
    "num2 = int(num)\n",
    "print (num2)"
   ]
  },
  {
   "cell_type": "code",
   "execution_count": 5,
   "id": "65cb4578-e7e7-46e9-bb33-3ee95b6d3703",
   "metadata": {},
   "outputs": [],
   "source": [
    "# 3. Convert a integer to a string."
   ]
  },
  {
   "cell_type": "code",
   "execution_count": 12,
   "id": "ac0c2c39-1732-4d3c-b24c-e62fbaf8b6e9",
   "metadata": {},
   "outputs": [
    {
     "name": "stdout",
     "output_type": "stream",
     "text": [
      "10\n"
     ]
    }
   ],
   "source": [
    "num = 10\n",
    "s_num = str(num)\n",
    "print (s_num)"
   ]
  },
  {
   "cell_type": "code",
   "execution_count": 7,
   "id": "7177e0f5-7bce-4061-a727-f2bcf8104ae5",
   "metadata": {},
   "outputs": [],
   "source": [
    "# 4. Convert a list to a tuple."
   ]
  },
  {
   "cell_type": "code",
   "execution_count": 8,
   "id": "9ce072cd-fec3-4471-b645-9c68d99ec580",
   "metadata": {},
   "outputs": [
    {
     "name": "stdout",
     "output_type": "stream",
     "text": [
      "('bus', 'train', 2)\n"
     ]
    }
   ],
   "source": [
    "l = [ \"bus\", \"train\", 2 ]\n",
    "t = tuple(l)\n",
    "print (t)"
   ]
  },
  {
   "cell_type": "code",
   "execution_count": 9,
   "id": "23a1657f-bc44-4be5-b847-27407f5d0df6",
   "metadata": {},
   "outputs": [],
   "source": [
    "# 5. Convert a tuple to a list."
   ]
  },
  {
   "cell_type": "code",
   "execution_count": 10,
   "id": "9f72b87d-66a1-4220-84e8-e637dacca9c5",
   "metadata": {},
   "outputs": [
    {
     "name": "stdout",
     "output_type": "stream",
     "text": [
      "['Khateeb', 5, 'science']\n"
     ]
    }
   ],
   "source": [
    "t = (\"Khateeb\", 5, \"science\")\n",
    "l = list(t)\n",
    "print (l)"
   ]
  },
  {
   "cell_type": "code",
   "execution_count": 11,
   "id": "680e8de9-0416-4ed5-8ca9-78b13855ff23",
   "metadata": {},
   "outputs": [],
   "source": [
    "# 6. Convert a decimal number to binary."
   ]
  },
  {
   "cell_type": "code",
   "execution_count": 14,
   "id": "59572358-3e6f-4ce6-93f3-327e1ec172ff",
   "metadata": {},
   "outputs": [
    {
     "name": "stdout",
     "output_type": "stream",
     "text": [
      "0b1010\n"
     ]
    }
   ],
   "source": [
    "num = 10\n",
    "b_num = bin(num)\n",
    "print(b_num)"
   ]
  },
  {
   "cell_type": "code",
   "execution_count": 15,
   "id": "0f06fe6e-7231-499d-aec2-534fe814b09f",
   "metadata": {},
   "outputs": [],
   "source": [
    "# 7. Convert a non-zero number to boolean."
   ]
  },
  {
   "cell_type": "code",
   "execution_count": 17,
   "id": "168daabe-9634-43e2-a2a7-295b05ec4e72",
   "metadata": {},
   "outputs": [
    {
     "name": "stdout",
     "output_type": "stream",
     "text": [
      "True\n"
     ]
    }
   ],
   "source": [
    "num = 11\n",
    "n = bool(num)\n",
    "print (n)"
   ]
  },
  {
   "cell_type": "code",
   "execution_count": null,
   "id": "ebcf32ea-eeb8-4efa-ad03-79ff0aecd4ca",
   "metadata": {},
   "outputs": [],
   "source": []
  }
 ],
 "metadata": {
  "kernelspec": {
   "display_name": "Python 3 (ipykernel)",
   "language": "python",
   "name": "python3"
  },
  "language_info": {
   "codemirror_mode": {
    "name": "ipython",
    "version": 3
   },
   "file_extension": ".py",
   "mimetype": "text/x-python",
   "name": "python",
   "nbconvert_exporter": "python",
   "pygments_lexer": "ipython3",
   "version": "3.10.8"
  }
 },
 "nbformat": 4,
 "nbformat_minor": 5
}
